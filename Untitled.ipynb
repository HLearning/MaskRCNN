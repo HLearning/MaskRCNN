{
 "cells": [
  {
   "cell_type": "code",
   "execution_count": 1,
   "id": "3a378238",
   "metadata": {
    "scrolled": true
   },
   "outputs": [
    {
     "name": "stderr",
     "output_type": "stream",
     "text": [
      "Using TensorFlow backend.\n",
      "/home/e00064/anaconda3/envs/py36/lib/python3.6/site-packages/tensorflow/python/framework/dtypes.py:523: FutureWarning: Passing (type, 1) or '1type' as a synonym of type is deprecated; in a future version of numpy, it will be understood as (type, (1,)) / '(1,)type'.\n",
      "  _np_qint8 = np.dtype([(\"qint8\", np.int8, 1)])\n",
      "/home/e00064/anaconda3/envs/py36/lib/python3.6/site-packages/tensorflow/python/framework/dtypes.py:524: FutureWarning: Passing (type, 1) or '1type' as a synonym of type is deprecated; in a future version of numpy, it will be understood as (type, (1,)) / '(1,)type'.\n",
      "  _np_quint8 = np.dtype([(\"quint8\", np.uint8, 1)])\n",
      "/home/e00064/anaconda3/envs/py36/lib/python3.6/site-packages/tensorflow/python/framework/dtypes.py:525: FutureWarning: Passing (type, 1) or '1type' as a synonym of type is deprecated; in a future version of numpy, it will be understood as (type, (1,)) / '(1,)type'.\n",
      "  _np_qint16 = np.dtype([(\"qint16\", np.int16, 1)])\n",
      "/home/e00064/anaconda3/envs/py36/lib/python3.6/site-packages/tensorflow/python/framework/dtypes.py:526: FutureWarning: Passing (type, 1) or '1type' as a synonym of type is deprecated; in a future version of numpy, it will be understood as (type, (1,)) / '(1,)type'.\n",
      "  _np_quint16 = np.dtype([(\"quint16\", np.uint16, 1)])\n",
      "/home/e00064/anaconda3/envs/py36/lib/python3.6/site-packages/tensorflow/python/framework/dtypes.py:527: FutureWarning: Passing (type, 1) or '1type' as a synonym of type is deprecated; in a future version of numpy, it will be understood as (type, (1,)) / '(1,)type'.\n",
      "  _np_qint32 = np.dtype([(\"qint32\", np.int32, 1)])\n",
      "/home/e00064/anaconda3/envs/py36/lib/python3.6/site-packages/tensorflow/python/framework/dtypes.py:532: FutureWarning: Passing (type, 1) or '1type' as a synonym of type is deprecated; in a future version of numpy, it will be understood as (type, (1,)) / '(1,)type'.\n",
      "  np_resource = np.dtype([(\"resource\", np.ubyte, 1)])\n"
     ]
    }
   ],
   "source": [
    "import keras\n",
    "import keras2onnx\n",
    "import onnx\n",
    "# from tensorflow.keras.models import load_model\n",
    "from keras.models import load_model\n",
    "# import tensorflow as tf"
   ]
  },
  {
   "cell_type": "code",
   "execution_count": 15,
   "id": "1f73c54f",
   "metadata": {
    "scrolled": true
   },
   "outputs": [
    {
     "name": "stderr",
     "output_type": "stream",
     "text": [
      "The ONNX operator number change on the optimization: 451 -> 122\n"
     ]
    },
    {
     "name": "stdout",
     "output_type": "stream",
     "text": [
      "<class 'str'>\n",
      "dim_value: 3\n",
      "\n",
      "\n",
      "dim_value: 224\n",
      "\n"
     ]
    }
   ],
   "source": [
    "import keras\n",
    "import keras2onnx\n",
    "import onnx\n",
    "# from tensorflow.keras.models import load_model\n",
    "from keras.models import load_model\n",
    "\n",
    "# model = keras.applications.resnet50.ResNet50(include_top=True)\n",
    "# model.summary()\n",
    "\n",
    "# model = keras.models.Model(inputs=model.input, outputs=model.get_layer('avg_pool').output)\n",
    "\n",
    "# model.save('./res_top.h5') \n",
    "# onnx_model = keras2onnx.convert_keras(model, model.name) #, channel_first_inputs=(1,3,224,224), target_opset=11)\n",
    "# onnx.save_model(onnx_model, './res_top.onnx')\n",
    "\n",
    "\n",
    "# model = keras.applications.resnet50.ResNet50(include_top=False)#, input_shape=(224,224,3))\n",
    "\n",
    "\n",
    "# model = keras.models.Model(inputs=model.input, outputs=model.get_layer('avg_pool').output)\n",
    "\n",
    "# model.save('./res_notop.h5') \n",
    "\n",
    "model = load_model('./res_notop.h5') \n",
    "# model.summary()\n",
    "onnx_model = keras2onnx.convert_keras(model, model.name)#, channel_first_inputs=[None, 224, 224, 3])#224,224,3))\n",
    "h = onnx_model.graph.input[0].type.tensor_type.shape.dim[1]\n",
    "w = onnx_model.graph.input[0].type.tensor_type.shape.dim[2]\n",
    "h.dim_value = 224\n",
    "w.dim_value = 224\n",
    "\n",
    "c = onnx_model.graph.input[0].type.tensor_type.shape.dim[3]\n",
    "print(type(c.dim_param))\n",
    "print(c)\n",
    "print(c.dim_param)\n",
    "\n",
    "print(onnx_model.graph.input[0].type.tensor_type.shape.dim[2])\n",
    "\n",
    "# onnx_model.graph.input[0].type.tensor_type.shape = [None,224,224,3]\n",
    "\n",
    "onnx.save_model(onnx_model, './res_notop.onnx')"
   ]
  },
  {
   "cell_type": "code",
   "execution_count": 3,
   "id": "ce0b9eb9",
   "metadata": {
    "scrolled": true
   },
   "outputs": [
    {
     "name": "stderr",
     "output_type": "stream",
     "text": [
      "/home/e00064/anaconda3/envs/py36/lib/python3.6/site-packages/keras/models.py:282: UserWarning: No training configuration found in save file: the model was *not* compiled. Compile it manually.\n",
      "  warnings.warn('No training configuration found in save file: '\n"
     ]
    },
    {
     "ename": "AssertionError",
     "evalue": "Tensor input_anchors:0 already processed",
     "output_type": "error",
     "traceback": [
      "\u001b[0;31m---------------------------------------------------------------------------\u001b[0m",
      "\u001b[0;31mAssertionError\u001b[0m                            Traceback (most recent call last)",
      "\u001b[0;32m<ipython-input-3-c824323bbff0>\u001b[0m in \u001b[0;36m<module>\u001b[0;34m\u001b[0m\n\u001b[1;32m      7\u001b[0m \u001b[0mmodel\u001b[0m \u001b[0;34m=\u001b[0m \u001b[0mload_model\u001b[0m\u001b[0;34m(\u001b[0m\u001b[0;34m'./res.h5'\u001b[0m\u001b[0;34m)\u001b[0m\u001b[0;34m\u001b[0m\u001b[0;34m\u001b[0m\u001b[0m\n\u001b[1;32m      8\u001b[0m \u001b[0;34m\u001b[0m\u001b[0m\n\u001b[0;32m----> 9\u001b[0;31m \u001b[0monnx_model\u001b[0m \u001b[0;34m=\u001b[0m \u001b[0mkeras2onnx\u001b[0m\u001b[0;34m.\u001b[0m\u001b[0mconvert_keras\u001b[0m\u001b[0;34m(\u001b[0m\u001b[0mmodel\u001b[0m\u001b[0;34m,\u001b[0m \u001b[0mmodel\u001b[0m\u001b[0;34m.\u001b[0m\u001b[0mname\u001b[0m\u001b[0;34m)\u001b[0m\u001b[0;31m#, channel_first_inputs=[None, 224, 224, 3])#224,224,3))\u001b[0m\u001b[0;34m\u001b[0m\u001b[0;34m\u001b[0m\u001b[0m\n\u001b[0m\u001b[1;32m     10\u001b[0m \u001b[0mh\u001b[0m \u001b[0;34m=\u001b[0m \u001b[0monnx_model\u001b[0m\u001b[0;34m.\u001b[0m\u001b[0mgraph\u001b[0m\u001b[0;34m.\u001b[0m\u001b[0minput\u001b[0m\u001b[0;34m[\u001b[0m\u001b[0;36m0\u001b[0m\u001b[0;34m]\u001b[0m\u001b[0;34m.\u001b[0m\u001b[0mtype\u001b[0m\u001b[0;34m.\u001b[0m\u001b[0mtensor_type\u001b[0m\u001b[0;34m.\u001b[0m\u001b[0mshape\u001b[0m\u001b[0;34m.\u001b[0m\u001b[0mdim\u001b[0m\u001b[0;34m[\u001b[0m\u001b[0;36m1\u001b[0m\u001b[0;34m]\u001b[0m\u001b[0;34m\u001b[0m\u001b[0;34m\u001b[0m\u001b[0m\n\u001b[1;32m     11\u001b[0m \u001b[0mw\u001b[0m \u001b[0;34m=\u001b[0m \u001b[0monnx_model\u001b[0m\u001b[0;34m.\u001b[0m\u001b[0mgraph\u001b[0m\u001b[0;34m.\u001b[0m\u001b[0minput\u001b[0m\u001b[0;34m[\u001b[0m\u001b[0;36m0\u001b[0m\u001b[0;34m]\u001b[0m\u001b[0;34m.\u001b[0m\u001b[0mtype\u001b[0m\u001b[0;34m.\u001b[0m\u001b[0mtensor_type\u001b[0m\u001b[0;34m.\u001b[0m\u001b[0mshape\u001b[0m\u001b[0;34m.\u001b[0m\u001b[0mdim\u001b[0m\u001b[0;34m[\u001b[0m\u001b[0;36m2\u001b[0m\u001b[0;34m]\u001b[0m\u001b[0;34m\u001b[0m\u001b[0;34m\u001b[0m\u001b[0m\n",
      "\u001b[0;32m~/anaconda3/envs/py36/lib/python3.6/site-packages/keras2onnx/main.py\u001b[0m in \u001b[0;36mconvert_keras\u001b[0;34m(model, name, doc_string, target_opset, channel_first_inputs, debug_mode, custom_op_conversions)\u001b[0m\n\u001b[1;32m     78\u001b[0m         \u001b[0mparse_graph_modeless\u001b[0m\u001b[0;34m(\u001b[0m\u001b[0mtopology\u001b[0m\u001b[0;34m,\u001b[0m \u001b[0mtf_graph\u001b[0m\u001b[0;34m,\u001b[0m \u001b[0mtarget_opset\u001b[0m\u001b[0;34m,\u001b[0m \u001b[0minput_names\u001b[0m\u001b[0;34m,\u001b[0m \u001b[0moutput_names\u001b[0m\u001b[0;34m,\u001b[0m \u001b[0moutput_dict\u001b[0m\u001b[0;34m)\u001b[0m\u001b[0;34m\u001b[0m\u001b[0;34m\u001b[0m\u001b[0m\n\u001b[1;32m     79\u001b[0m     \u001b[0;32melse\u001b[0m\u001b[0;34m:\u001b[0m\u001b[0;34m\u001b[0m\u001b[0;34m\u001b[0m\u001b[0m\n\u001b[0;32m---> 80\u001b[0;31m         \u001b[0mparse_graph\u001b[0m\u001b[0;34m(\u001b[0m\u001b[0mtopology\u001b[0m\u001b[0;34m,\u001b[0m \u001b[0mtf_graph\u001b[0m\u001b[0;34m,\u001b[0m \u001b[0mtarget_opset\u001b[0m\u001b[0;34m,\u001b[0m \u001b[0moutput_names\u001b[0m\u001b[0;34m,\u001b[0m \u001b[0moutput_dict\u001b[0m\u001b[0;34m)\u001b[0m\u001b[0;34m\u001b[0m\u001b[0;34m\u001b[0m\u001b[0m\n\u001b[0m\u001b[1;32m     81\u001b[0m     \u001b[0mtopology\u001b[0m\u001b[0;34m.\u001b[0m\u001b[0mcompile\u001b[0m\u001b[0;34m(\u001b[0m\u001b[0;34m)\u001b[0m\u001b[0;34m\u001b[0m\u001b[0;34m\u001b[0m\u001b[0m\n\u001b[1;32m     82\u001b[0m \u001b[0;34m\u001b[0m\u001b[0m\n",
      "\u001b[0;32m~/anaconda3/envs/py36/lib/python3.6/site-packages/keras2onnx/parser.py\u001b[0m in \u001b[0;36mparse_graph\u001b[0;34m(topo, graph, target_opset, output_names, keras_node_dict)\u001b[0m\n\u001b[1;32m    840\u001b[0m         \u001b[0mgraph\u001b[0m\u001b[0;34m,\u001b[0m \u001b[0mkeras_node_dict\u001b[0m\u001b[0;34m,\u001b[0m \u001b[0mtopo\u001b[0m\u001b[0;34m,\u001b[0m \u001b[0mtop_level\u001b[0m\u001b[0;34m,\u001b[0m \u001b[0moutput_names\u001b[0m\u001b[0;34m\u001b[0m\u001b[0;34m\u001b[0m\u001b[0m\n\u001b[1;32m    841\u001b[0m     \u001b[0;34m)\u001b[0m \u001b[0;32mif\u001b[0m \u001b[0mis_tf2\u001b[0m \u001b[0;32mand\u001b[0m \u001b[0mis_tf_keras\u001b[0m \u001b[0;32melse\u001b[0m \u001b[0m_parse_graph_core\u001b[0m\u001b[0;34m(\u001b[0m\u001b[0;34m\u001b[0m\u001b[0;34m\u001b[0m\u001b[0m\n\u001b[0;32m--> 842\u001b[0;31m         graph, keras_node_dict, topo, top_level, output_names)\n\u001b[0m",
      "\u001b[0;32m~/anaconda3/envs/py36/lib/python3.6/site-packages/keras2onnx/parser.py\u001b[0m in \u001b[0;36m_parse_graph_core\u001b[0;34m(graph, keras_node_dict, topology, top_scope, output_names)\u001b[0m\n\u001b[1;32m    576\u001b[0m     \u001b[0;32mfor\u001b[0m \u001b[0mname\u001b[0m \u001b[0;32min\u001b[0m \u001b[0moutput_names\u001b[0m\u001b[0;34m:\u001b[0m\u001b[0;34m\u001b[0m\u001b[0;34m\u001b[0m\u001b[0m\n\u001b[1;32m    577\u001b[0m         \u001b[0mvar_ts\u001b[0m \u001b[0;34m=\u001b[0m \u001b[0mgraph\u001b[0m\u001b[0;34m.\u001b[0m\u001b[0mget_operation_by_name\u001b[0m\u001b[0;34m(\u001b[0m\u001b[0mtsname_to_node\u001b[0m\u001b[0;34m(\u001b[0m\u001b[0mname\u001b[0m\u001b[0;34m)\u001b[0m\u001b[0;34m)\u001b[0m\u001b[0;34m.\u001b[0m\u001b[0moutputs\u001b[0m\u001b[0;34m[\u001b[0m\u001b[0;36m0\u001b[0m\u001b[0;34m]\u001b[0m\u001b[0;34m\u001b[0m\u001b[0;34m\u001b[0m\u001b[0m\n\u001b[0;32m--> 578\u001b[0;31m         \u001b[0m_create_link_node\u001b[0m\u001b[0;34m(\u001b[0m\u001b[0mvar_ts\u001b[0m\u001b[0;34m,\u001b[0m \u001b[0mtop_scope\u001b[0m\u001b[0;34m,\u001b[0m \u001b[0mvarset\u001b[0m\u001b[0;34m,\u001b[0m \u001b[0madjust_batch_size\u001b[0m\u001b[0;34m=\u001b[0m\u001b[0;32mTrue\u001b[0m\u001b[0;34m)\u001b[0m\u001b[0;34m\u001b[0m\u001b[0;34m\u001b[0m\u001b[0m\n\u001b[0m\u001b[1;32m    579\u001b[0m         \u001b[0mmodel_outputs\u001b[0m\u001b[0;34m.\u001b[0m\u001b[0mappend\u001b[0m\u001b[0;34m(\u001b[0m\u001b[0mvar_ts\u001b[0m\u001b[0;34m.\u001b[0m\u001b[0mop\u001b[0m\u001b[0;34m)\u001b[0m\u001b[0;34m\u001b[0m\u001b[0;34m\u001b[0m\u001b[0m\n\u001b[1;32m    580\u001b[0m \u001b[0;34m\u001b[0m\u001b[0m\n",
      "\u001b[0;32m~/anaconda3/envs/py36/lib/python3.6/site-packages/keras2onnx/parser.py\u001b[0m in \u001b[0;36m_create_link_node\u001b[0;34m(var_ts, top_level, varset, reversed_io, adjust_batch_size)\u001b[0m\n\u001b[1;32m    378\u001b[0m         \u001b[0mvar0\u001b[0m\u001b[0;34m,\u001b[0m \u001b[0mvar1\u001b[0m \u001b[0;34m=\u001b[0m \u001b[0mvar1\u001b[0m\u001b[0;34m,\u001b[0m \u001b[0mvar0\u001b[0m\u001b[0;34m\u001b[0m\u001b[0;34m\u001b[0m\u001b[0m\n\u001b[1;32m    379\u001b[0m     \u001b[0mop\u001b[0m\u001b[0;34m.\u001b[0m\u001b[0madd_input\u001b[0m\u001b[0;34m(\u001b[0m\u001b[0mvar1\u001b[0m\u001b[0;34m)\u001b[0m\u001b[0;34m\u001b[0m\u001b[0;34m\u001b[0m\u001b[0m\n\u001b[0;32m--> 380\u001b[0;31m     \u001b[0mop\u001b[0m\u001b[0;34m.\u001b[0m\u001b[0madd_output\u001b[0m\u001b[0;34m(\u001b[0m\u001b[0mvar0\u001b[0m\u001b[0;34m)\u001b[0m\u001b[0;34m\u001b[0m\u001b[0;34m\u001b[0m\u001b[0m\n\u001b[0m\u001b[1;32m    381\u001b[0m     \u001b[0;32mreturn\u001b[0m \u001b[0mop\u001b[0m\u001b[0;34m\u001b[0m\u001b[0;34m\u001b[0m\u001b[0m\n\u001b[1;32m    382\u001b[0m \u001b[0;34m\u001b[0m\u001b[0m\n",
      "\u001b[0;32m~/anaconda3/envs/py36/lib/python3.6/site-packages/keras2onnx/common/intop.py\u001b[0m in \u001b[0;36madd_output\u001b[0;34m(self, var)\u001b[0m\n\u001b[1;32m     70\u001b[0m     \u001b[0;32mdef\u001b[0m \u001b[0madd_output\u001b[0m\u001b[0;34m(\u001b[0m\u001b[0mself\u001b[0m\u001b[0;34m,\u001b[0m \u001b[0mvar\u001b[0m\u001b[0;34m)\u001b[0m\u001b[0;34m:\u001b[0m\u001b[0;34m\u001b[0m\u001b[0;34m\u001b[0m\u001b[0m\n\u001b[1;32m     71\u001b[0m         \u001b[0;32mif\u001b[0m \u001b[0mvar\u001b[0m\u001b[0;34m.\u001b[0m\u001b[0mop_from\u001b[0m \u001b[0;32mis\u001b[0m \u001b[0;32mnot\u001b[0m \u001b[0;32mNone\u001b[0m\u001b[0;34m:\u001b[0m\u001b[0;34m\u001b[0m\u001b[0;34m\u001b[0m\u001b[0m\n\u001b[0;32m---> 72\u001b[0;31m             \u001b[0;32massert\u001b[0m \u001b[0;32mFalse\u001b[0m\u001b[0;34m,\u001b[0m \u001b[0;34m\"Tensor {} already processed\"\u001b[0m\u001b[0;34m.\u001b[0m\u001b[0mformat\u001b[0m\u001b[0;34m(\u001b[0m\u001b[0mvar\u001b[0m\u001b[0;34m.\u001b[0m\u001b[0mfull_name\u001b[0m\u001b[0;34m)\u001b[0m\u001b[0;34m\u001b[0m\u001b[0;34m\u001b[0m\u001b[0m\n\u001b[0m\u001b[1;32m     73\u001b[0m         \u001b[0mvar\u001b[0m\u001b[0;34m.\u001b[0m\u001b[0mop_from\u001b[0m \u001b[0;34m=\u001b[0m \u001b[0mself\u001b[0m\u001b[0;34m\u001b[0m\u001b[0;34m\u001b[0m\u001b[0m\n\u001b[1;32m     74\u001b[0m         \u001b[0mself\u001b[0m\u001b[0;34m.\u001b[0m\u001b[0moutputs\u001b[0m\u001b[0;34m.\u001b[0m\u001b[0mappend\u001b[0m\u001b[0;34m(\u001b[0m\u001b[0mvar\u001b[0m\u001b[0;34m)\u001b[0m\u001b[0;34m\u001b[0m\u001b[0;34m\u001b[0m\u001b[0m\n",
      "\u001b[0;31mAssertionError\u001b[0m: Tensor input_anchors:0 already processed"
     ]
    }
   ],
   "source": [
    "import keras\n",
    "import keras2onnx\n",
    "import onnx\n",
    "# from tensorflow.keras.models import load_model\n",
    "from keras.models import load_model\n",
    "import tensorflow as tf\n",
    "model = load_model('./res.h5') \n",
    "\n",
    "onnx_model = keras2onnx.convert_keras(model, model.name)#, channel_first_inputs=[None, 224, 224, 3])#224,224,3))\n",
    "h = onnx_model.graph.input[0].type.tensor_type.shape.dim[1]\n",
    "w = onnx_model.graph.input[0].type.tensor_type.shape.dim[2]\n",
    "h.dim_value = 1024\n",
    "w.dim_value = 1024\n",
    "\n",
    "print(w, h)\n",
    "onnx.save_model(onnx_model, './res_notop.onnx')"
   ]
  },
  {
   "cell_type": "code",
   "execution_count": 6,
   "id": "5778902b",
   "metadata": {
    "scrolled": true
   },
   "outputs": [
    {
     "name": "stderr",
     "output_type": "stream",
     "text": [
      "The ONNX operator number change on the optimization: 27 -> 7\n"
     ]
    },
    {
     "name": "stdout",
     "output_type": "stream",
     "text": [
      "_________________________________________________________________\n",
      "Layer (type)                 Output Shape              Param #   \n",
      "=================================================================\n",
      "input_image (InputLayer)     (None, None, None, 3)     0         \n",
      "_________________________________________________________________\n",
      "zero_padding2d_1 (ZeroPaddin (None, None, None, 3)     0         \n",
      "_________________________________________________________________\n",
      "conv1 (Conv2D)               (None, None, None, 64)    9472      \n",
      "_________________________________________________________________\n",
      "bn_conv1 (BatchNormalization (None, None, None, 64)    256       \n",
      "_________________________________________________________________\n",
      "activation_1 (Activation)    (None, None, None, 64)    0         \n",
      "_________________________________________________________________\n",
      "max_pooling2d_1 (MaxPooling2 (None, None, None, 64)    0         \n",
      "_________________________________________________________________\n",
      "res2a_branch2a (Conv2D)      (None, None, None, 64)    4160      \n",
      "_________________________________________________________________\n",
      "bn2a_branch2a (BatchNormaliz (None, None, None, 64)    256       \n",
      "_________________________________________________________________\n",
      "activation_2 (Activation)    (None, None, None, 64)    0         \n",
      "=================================================================\n",
      "Total params: 14,144\n",
      "Trainable params: 13,888\n",
      "Non-trainable params: 256\n",
      "_________________________________________________________________\n"
     ]
    }
   ],
   "source": [
    "import keras\n",
    "import keras2onnx\n",
    "import onnx\n",
    "# from tensorflow.keras.models import load_model\n",
    "from keras.models import load_model\n",
    "\n",
    "# model = keras.applications.resnet50.ResNet50(include_top=True)\n",
    "model = load_model('./res.h5') \n",
    "#model = load_model('./resnet50_weights_tf_dim_ordering_tf_kernels_notop.h5') \n",
    "model.summary()\n",
    "\n",
    "#model.load_weights(\"./res.h5\")\n",
    "\n",
    "\n",
    "# inputs = keras.models.Input(shape=(224,224,3))\n",
    "# out = model.get_layer('input_image')(inputs)\n",
    "\n",
    "# model1 = keras.models.Model(inputs=inputs, outputs=model.get_layer('activation_2').output)\n",
    "\n",
    "# model2 = keras.models.Model(inputs=model.input, outputs=model.get_layer('bn2a_branch2a').output)\n",
    "\n",
    "# model1.summary()\n",
    "# model2.summary()\n",
    "\n",
    "# model3 = keras.models.Model(inputs=inputs, outputs=model.get_layer('bn2a_branch2a').output)\n",
    "                            \n",
    "# model3.summary()\n",
    "\n",
    "\n",
    "# onnx_model = keras2onnx.convert_keras(model, model.name, channel_first_inputs=(1,3,224,224), target_opset=11)\n",
    "\n",
    "\n",
    "onnx_model = keras2onnx.convert_keras(model, model.name, channel_first_inputs=(1,3,224,224), target_opset=11)\n",
    "onnx.save_model(onnx_model, './res.onnx')"
   ]
  },
  {
   "cell_type": "code",
   "execution_count": 4,
   "id": "32bab35a",
   "metadata": {},
   "outputs": [
    {
     "name": "stdout",
     "output_type": "stream",
     "text": [
      "dim_value: 1024\n",
      "\n"
     ]
    }
   ],
   "source": [
    "import onnx\n",
    "\n",
    "# Load the ONNX model\n",
    "onnx_model = onnx.load(\"/home/e00064/imagination/icleague_demo/networks/maskrcnn/mask_rcnn_R_50_FPN_1x.onnx\")\n",
    "\n",
    "h = onnx_model.graph.input[0].type.tensor_type.shape.dim[1]\n",
    "w = onnx_model.graph.input[0].type.tensor_type.shape.dim[2]\n",
    "h.dim_value = 1024\n",
    "w.dim_value = 1024\n",
    "\n",
    "# onnx_model.graph.input[0].type.tensor_type.shape = [None,224,224,3]\n",
    "\n",
    "onnx.save_model(onnx_model, './res_notop.onnx')"
   ]
  },
  {
   "cell_type": "code",
   "execution_count": null,
   "id": "99a93585",
   "metadata": {},
   "outputs": [],
   "source": []
  },
  {
   "cell_type": "code",
   "execution_count": 1,
   "id": "b9fe8604",
   "metadata": {},
   "outputs": [],
   "source": [
    "import numpy as np"
   ]
  },
  {
   "cell_type": "code",
   "execution_count": null,
   "id": "751450ec",
   "metadata": {},
   "outputs": [],
   "source": [
    "def clip_boxes_graph(boxes, window):\n",
    "    \"\"\"\n",
    "    boxes: [N, (y1, x1, y2, x2)]\n",
    "    window: [4] in the form y1, x1, y2, x2\n",
    "    \"\"\"\n",
    "    # Split\n",
    "    wy1, wx1, wy2, wx2 = tf.split(window, 4)\n",
    "    y1, x1, y2, x2 = tf.split(boxes, 4, axis=1)\n",
    "    # Clip\n",
    "    y1 = tf.maximum(tf.minimum(y1, wy2), wy1)\n",
    "    x1 = tf.maximum(tf.minimum(x1, wx2), wx1)\n",
    "    y2 = tf.maximum(tf.minimum(y2, wy2), wy1)\n",
    "    x2 = tf.maximum(tf.minimum(x2, wx2), wx1)\n",
    "    clipped = tf.concat([y1, x1, y2, x2], axis=1, name=\"clipped_boxes\")\n",
    "    clipped.set_shape((clipped.shape[0], 4))\n",
    "    return clipped"
   ]
  },
  {
   "cell_type": "code",
   "execution_count": null,
   "id": "e05d332d",
   "metadata": {},
   "outputs": [],
   "source": [
    "boxes = [10,20, 100, 200]\n",
    "window = [20, 30, 90, 100]\n",
    "\n",
    "clip_boxes_graph(boxes, window)"
   ]
  },
  {
   "cell_type": "code",
   "execution_count": null,
   "id": "f57bbd1c",
   "metadata": {},
   "outputs": [],
   "source": []
  }
 ],
 "metadata": {
  "kernelspec": {
   "display_name": "Python [conda env:py36]",
   "language": "python",
   "name": "conda-env-py36-py"
  },
  "language_info": {
   "codemirror_mode": {
    "name": "ipython",
    "version": 3
   },
   "file_extension": ".py",
   "mimetype": "text/x-python",
   "name": "python",
   "nbconvert_exporter": "python",
   "pygments_lexer": "ipython3",
   "version": "3.6.13"
  }
 },
 "nbformat": 4,
 "nbformat_minor": 5
}
